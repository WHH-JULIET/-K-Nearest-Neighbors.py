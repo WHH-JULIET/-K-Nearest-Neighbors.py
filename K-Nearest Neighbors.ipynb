{
  "nbformat": 4,
  "nbformat_minor": 0,
  "metadata": {
    "colab": {
      "provenance": [],
      "toc_visible": true
    },
    "kernelspec": {
      "name": "python3",
      "display_name": "Python 3"
    },
    "language_info": {
      "name": "python"
    }
  },
  "cells": [
    {
      "cell_type": "code",
      "execution_count": 3,
      "metadata": {
        "colab": {
          "base_uri": "https://localhost:8080/"
        },
        "id": "vuLa5UFl8EGS",
        "outputId": "00a72885-303e-4baf-d8a1-662b0184b90d"
      },
      "outputs": [
        {
          "output_type": "stream",
          "name": "stdout",
          "text": [
            "Custom KNN - Predicted class: 1\n",
            "sklearn KNN - Accuracy: 0.9777777777777777\n"
          ]
        }
      ],
      "source": [
        "import numpy as np\n",
        "from collections import Counter\n",
        "from sklearn.datasets import load_iris\n",
        "from sklearn.neighbors import KNeighborsClassifier\n",
        "from sklearn.model_selection import train_test_split\n",
        "from sklearn.metrics import accuracy_score\n",
        "\n",
        "# Euclidean distance function\n",
        "def euclidean_distance(x1, x2):\n",
        "    return np.sqrt(np.sum((x1 - x2) ** 2))\n",
        "\n",
        "# KNN Classifier (custom)\n",
        "class KNN:\n",
        "    def __init__(self, k=3):\n",
        "        self.k = k\n",
        "\n",
        "    def fit(self, X, y):\n",
        "        self.X_train = np.array(X)\n",
        "        self.y_train = np.array(y)\n",
        "\n",
        "    def predict(self, X):\n",
        "        predictions = [self._predict(x) for x in X]\n",
        "        return np.array(predictions)\n",
        "\n",
        "    def _predict(self, x):\n",
        "        distances = [euclidean_distance(x, x_train) for x_train in self.X_train]\n",
        "        k_indices = np.argsort(distances)[:self.k]\n",
        "        k_nearest_labels = [self.y_train[i] for i in k_indices]\n",
        "        most_common = Counter(k_nearest_labels).most_common(1)\n",
        "        return most_common[0][0]\n",
        "\n",
        "# Custom KNN example\n",
        "if __name__ == \"__main__\":\n",
        "    # Sample data\n",
        "    X_train = [[1, 2], [2, 3], [3, 1], [6, 5], [7, 7], [8, 6]]\n",
        "    y_train = [0, 0, 0, 1, 1, 1]\n",
        "    X_test = [[5, 5]]\n",
        "\n",
        "    model = KNN(k=3)\n",
        "    model.fit(X_train, y_train)\n",
        "    prediction = model.predict(X_test)\n",
        "    print(f\"Custom KNN - Predicted class: {prediction[0]}\")\n",
        "\n",
        "    # ---- scikit-learn KNN example ----\n",
        "    # Load dataset\n",
        "    X, y = load_iris(return_X_y=True)\n",
        "\n",
        "    # Split data\n",
        "    X_train, X_test, y_train, y_test = train_test_split(X, y, test_size=0.3)\n",
        "\n",
        "    # Create KNN model\n",
        "    model = KNeighborsClassifier(n_neighbors=3)\n",
        "    model.fit(X_train, y_train)\n",
        "\n",
        "    # Predict & evaluate\n",
        "    y_pred = model.predict(X_test)\n",
        "    print(\"sklearn KNN - Accuracy:\", accuracy_score(y_test, y_pred))\n"
      ]
    },
    {
      "cell_type": "code",
      "source": [],
      "metadata": {
        "id": "VNUc3hom8Kmo"
      },
      "execution_count": null,
      "outputs": []
    }
  ]
}